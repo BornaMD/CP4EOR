{
 "cells": [
  {
   "cell_type": "code",
   "execution_count": 3,
   "metadata": {},
   "outputs": [
    {
     "ename": "IndentationError",
     "evalue": "unexpected indent (<ipython-input-3-1dbbaa050d91>, line 4)",
     "output_type": "error",
     "traceback": [
      "\u001b[1;36m  File \u001b[1;32m\"<ipython-input-3-1dbbaa050d91>\"\u001b[1;36m, line \u001b[1;32m4\u001b[0m\n\u001b[1;33m    break\u001b[0m\n\u001b[1;37m    ^\u001b[0m\n\u001b[1;31mIndentationError\u001b[0m\u001b[1;31m:\u001b[0m unexpected indent\n"
     ]
    }
   ],
   "source": [
    "while True:\n",
    " try:\n",
    "  a=int(input(\"Length of side 1:\"))\n",
    "   break \n",
    " except Exception:\n",
    "  print(\"Oops!That was no valid number. Please try again.\")\n",
    "  a=int(input(\"Length of side 1:\"))\n",
    "while True:\n",
    " try:\n",
    "  b=int(input(\"Length of side 2:\"))\n",
    "   break \n",
    " except Exception:\n",
    "  print(\"Oops!That was no valid number. Please try again.\")\n",
    "  b=int(input(\"Length of side 2:\"))\n",
    "while True:\n",
    " try:\n",
    "  c=int(input(\"Length of side 3:\"))\n",
    "   break \n",
    " except Exception:\n",
    "  print(\"Oops!That was no valid number. Please try again.\")\n",
    "  c=int(input(\"Length of side 3:\"))\n",
    "while True:\n",
    " print(\"The triangle is \")\n",
    " if a == b == c\n",
    "  print(\"equilateral\")\n",
    " elif a == b OR a == c OR b == c\n",
    "  print(\"isosceles\")\n",
    " else\n",
    "  print(\"scalene\")"
   ]
  },
  {
   "cell_type": "code",
   "execution_count": null,
   "metadata": {},
   "outputs": [],
   "source": [
    "import random\n",
    "num = random.randint(1, 9)\n",
    "while True:\n",
    "  try:\n",
    "    m=int(input(\"Guess a number between 1 and 9:\"))\n",
    "    if (m>0 & m<10):\n",
    "      break\n",
    "    else:\n",
    "      print(\"Oops! The number should be between 1 and 9. Please try again.\")\n",
    "  except Exception:\n",
    "    print(\"Oops! That was no valid number. Please try again.\")\n",
    "while True: \n",
    " if (m == num):\n",
    "  print(\"Correct!\")\n",
    "  break\n",
    " elif (m>num): \n",
    "  print(\"You guessed too high!\")\n",
    " else: \n",
    "  print(\"You guessed too low!\")\n"
   ]
  }
 ],
 "metadata": {
  "kernelspec": {
   "display_name": "Python 3",
   "language": "python",
   "name": "python3"
  },
  "language_info": {
   "codemirror_mode": {
    "name": "ipython",
    "version": 3
   },
   "file_extension": ".py",
   "mimetype": "text/x-python",
   "name": "python",
   "nbconvert_exporter": "python",
   "pygments_lexer": "ipython3",
   "version": "3.6.6"
  }
 },
 "nbformat": 4,
 "nbformat_minor": 2
}
