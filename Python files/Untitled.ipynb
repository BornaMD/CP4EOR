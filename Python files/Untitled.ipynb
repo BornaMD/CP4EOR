{
 "cells": [
  {
   "cell_type": "code",
   "execution_count": 1,
   "metadata": {},
   "outputs": [
    {
     "ename": "IndentationError",
     "evalue": "expected an indented block (<ipython-input-1-81193a6ecaa6>, line 2)",
     "output_type": "error",
     "traceback": [
      "\u001b[1;36m  File \u001b[1;32m\"<ipython-input-1-81193a6ecaa6>\"\u001b[1;36m, line \u001b[1;32m2\u001b[0m\n\u001b[1;33m    try:\u001b[0m\n\u001b[1;37m      ^\u001b[0m\n\u001b[1;31mIndentationError\u001b[0m\u001b[1;31m:\u001b[0m expected an indented block\n"
     ]
    }
   ],
   "source": [
    "while True:\n",
    "try:\n",
    "    m=int(input(\"Develop multiplication table for:\"))\n",
    "if (m>0):\n",
    "        break\n",
    "    else: #stay in the loop\n",
    "    print(\"Oops! The number should be positive. Please try again.\")\n",
    "\n",
    "except Exception:\n",
    "print(\"Oops! That was no valid number. Please try again.\")\n",
    "\n",
    "MaxSize= len(str(m*m))\n",
    "for j in range(1,m+1):\n",
    "s=\"\"\n",
    "for i in range (1,m+1):\n",
    "k=str(i*j)\n",
    "s+= k + \" \" * (1+MaxSize-len(k))\n",
    "print (s)"
   ]
  },
  {
   "cell_type": "code",
   "execution_count": null,
   "metadata": {},
   "outputs": [],
   "source": []
  }
 ],
 "metadata": {
  "kernelspec": {
   "display_name": "Python 3",
   "language": "python",
   "name": "python3"
  },
  "language_info": {
   "codemirror_mode": {
    "name": "ipython",
    "version": 3
   },
   "file_extension": ".py",
   "mimetype": "text/x-python",
   "name": "python",
   "nbconvert_exporter": "python",
   "pygments_lexer": "ipython3",
   "version": "3.6.6"
  }
 },
 "nbformat": 4,
 "nbformat_minor": 2
}
