{
 "cells": [
  {
   "cell_type": "code",
   "execution_count": 14,
   "metadata": {},
   "outputs": [
    {
     "name": "stdout",
     "output_type": "stream",
     "text": [
      "3628800\n",
      "385\n",
      "55\n"
     ]
    }
   ],
   "source": [
    "product = 1\n",
    "for i in range(1,10+1):\n",
    "  product *= i\n",
    "print(product)\n",
    "\n",
    "sum_squares = 0\n",
    "for i in range(10+1):\n",
    "  i_sq = i**2\n",
    "  sum_squares += i_sq\n",
    "print(sum_squares)\n",
    "\n",
    "nums = 0\n",
    "for num in range(10+1):\n",
    "  nums += num\n",
    "print(nums)"
   ]
  }
 ],
 "metadata": {
  "kernelspec": {
   "display_name": "Python 3",
   "language": "python",
   "name": "python3"
  },
  "language_info": {
   "codemirror_mode": {
    "name": "ipython",
    "version": 3
   },
   "file_extension": ".py",
   "mimetype": "text/x-python",
   "name": "python",
   "nbconvert_exporter": "python",
   "pygments_lexer": "ipython3",
   "version": "3.6.6"
  }
 },
 "nbformat": 4,
 "nbformat_minor": 2
}
